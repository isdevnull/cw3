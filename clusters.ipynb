{
 "metadata": {
  "language_info": {
   "codemirror_mode": {
    "name": "ipython",
    "version": 3
   },
   "file_extension": ".py",
   "mimetype": "text/x-python",
   "name": "python",
   "nbconvert_exporter": "python",
   "pygments_lexer": "ipython3",
   "version": "3.9.4"
  },
  "orig_nbformat": 2,
  "kernelspec": {
   "name": "python394jvsc74a57bd00fe626b6bc988433b58b88b36cfdeccd2c7dd3b039882c1ff80657a60a056579",
   "display_name": "Python 3.9.4 64-bit ('project': conda)"
  },
  "metadata": {
   "interpreter": {
    "hash": "0fe626b6bc988433b58b88b36cfdeccd2c7dd3b039882c1ff80657a60a056579"
   }
  }
 },
 "nbformat": 4,
 "nbformat_minor": 2,
 "cells": [
  {
   "cell_type": "code",
   "execution_count": 1,
   "metadata": {},
   "outputs": [],
   "source": [
    "import matplotlib.pyplot as plt\n",
    "import geopandas as gpd\n",
    "from sklearn.cluster import KMeans\n",
    "import numpy as np\n",
    "import pandas as pd \n",
    "import folium\n",
    "import seaborn as sns"
   ]
  },
  {
   "source": [
    "moskva = pd.read_csv('clean_data_MSK.csv', sep=':')\n",
    "moskva.head()"
   ],
   "cell_type": "code",
   "metadata": {},
   "execution_count": null,
   "outputs": []
  },
  {
   "cell_type": "code",
   "execution_count": 6,
   "metadata": {},
   "outputs": [],
   "source": [
    "moskva_new = moskva[(moskva['Долгота'] < 37.9545100) & (moskva['Долгота'] > 37.1813900) & (moskva['Широта'] <55.9825000) & (moskva['Широта'] > 55.1339600)].copy()"
   ]
  },
  {
   "source": [
    "categor_df = moskva_new[['Тип аварии', 'Количество погибших',\t'Количество пострадавших', 'Количество участников']].groupby('Тип аварии').sum()\n",
    "categor_df[\"P_death\"] = round(categor_df['Количество погибших'] / categor_df['Количество участников'], 2)\n",
    "categor_df"
   ],
   "cell_type": "code",
   "metadata": {},
   "execution_count": null,
   "outputs": []
  },
  {
   "source": [
    "map_ = folium.Map([55.75215, 37.61819], zoom_start=10)\n",
    "for id, row in moskva_new.iterrows():\n",
    "    folium.Circle([row['Широта'], row['Долгота']],\n",
    "                  radius=10).add_to(map_)\n",
    "map_"
   ],
   "cell_type": "code",
   "metadata": {},
   "execution_count": null,
   "outputs": []
  },
  {
   "cell_type": "code",
   "execution_count": 12,
   "metadata": {},
   "outputs": [
    {
     "output_type": "execute_result",
     "data": {
      "text/plain": [
       "DBSCAN(eps=1.5696123057604773e-05, metric='haversine', min_samples=15)"
      ]
     },
     "metadata": {},
     "execution_count": 12
    }
   ],
   "source": [
    "from sklearn.cluster import DBSCAN\n",
    "\n",
    "\"\"\"clast = DBSCAN(eps=0.001, \n",
    "            min_samples=15, \n",
    "            metric='euclidean')\n",
    "clast.fit(moskva_new[['Lat', 'Long']].values)\n",
    "\"\"\"\n",
    "\n",
    "distance = 0.1 # in kilometers\n",
    "clast = DBSCAN(eps=distance/6371., min_samples=15, metric='haversine')\n",
    "clast.fit(np.radians(moskva_new[['Широта', 'Долгота']].values))\n"
   ]
  },
  {
   "source": [
    "DBSCAN_clustered_map(moskva_new, clast, label_colour='purple')"
   ],
   "cell_type": "code",
   "metadata": {},
   "execution_count": null,
   "outputs": []
  },
  {
   "cell_type": "code",
   "execution_count": 102,
   "metadata": {},
   "outputs": [],
   "source": [
    "from matplotlib.colors import rgb2hex\n",
    "from matplotlib.cm import rainbow\n",
    "\n",
    "\n",
    "def DBSCAN_clustered_map(data, cluster_model, label_colour='purple'):\n",
    "    '''\n",
    "    Create map with coloured clusters\n",
    "    param data: pd.DataFrame - public transport stops data\n",
    "    param labels: (n_samples, ) - cluster labels for each stop\n",
    "    return: folium.Map - map with coloured clusters\n",
    "    '''\n",
    "    labels = cluster_model.labels_\n",
    "    df = data[['Lat', 'Long', 'severity']].copy()\n",
    "    df.insert(2, \"labels\", labels + 1)\n",
    "\n",
    "    Moscow_Map = folium.Map([55.75215, 37.61819], zoom_start=11)\n",
    "    for id, row in df.iterrows():\n",
    "        idx = row.labels - 1\n",
    "        if idx >= 0:\n",
    "           if row.severity=='С погибшими':\n",
    "              folium.Circle([row.Lat, row.Long],\n",
    "                    radius=40, color='red').add_to(Moscow_Map)\n",
    "           elif row.severity=='Тяжёлый':\n",
    "              folium.Circle([row.Lat, row.Long],\n",
    "                    radius=26, color=label_colour).add_to(Moscow_Map)\n",
    "           else:\n",
    "              folium.Circle([row.Lat, row.Long],\n",
    "                    radius=5, color='lightgreen').add_to(Moscow_Map)\n",
    "    \n",
    "    \n",
    "    return Moscow_Map"
   ]
  },
  {
   "cell_type": "code",
   "execution_count": 21,
   "metadata": {},
   "outputs": [],
   "source": [
    "from sklearn.model_selection import train_test_split"
   ]
  }
 ]
}