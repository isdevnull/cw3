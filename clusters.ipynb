{
 "metadata": {
  "language_info": {
   "codemirror_mode": {
    "name": "ipython",
    "version": 3
   },
   "file_extension": ".py",
   "mimetype": "text/x-python",
   "name": "python",
   "nbconvert_exporter": "python",
   "pygments_lexer": "ipython3",
   "version": "3.9.5"
  },
  "orig_nbformat": 2,
  "kernelspec": {
   "name": "python395jvsc74a57bd09c37a91bca3170d8f8c7af294b244aa692cbaf25f994b6e11faa8be11c617b70",
   "display_name": "Python 3.9.5 64-bit ('project': venv)",
   "language": "python"
  },
  "metadata": {
   "interpreter": {
    "hash": "0fe626b6bc988433b58b88b36cfdeccd2c7dd3b039882c1ff80657a60a056579"
   }
  },
  "interpreter": {
   "hash": "9c37a91bca3170d8f8c7af294b244aa692cbaf25f994b6e11faa8be11c617b70"
  }
 },
 "nbformat": 4,
 "nbformat_minor": 2,
 "cells": [
  {
   "cell_type": "code",
   "execution_count": 1,
   "metadata": {},
   "outputs": [],
   "source": [
    "import numpy as np\n",
    "import pandas as pd\n",
    "import folium\n",
    "from sklearn.cluster import DBSCAN"
   ]
  },
  {
   "source": [
    "moskva = pd.read_csv('clean_data_MSK.csv', sep=':')\n",
    "moskva.head()"
   ],
   "cell_type": "code",
   "metadata": {},
   "execution_count": 2,
   "outputs": [
    {
     "output_type": "execute_result",
     "data": {
      "text/plain": [
       "                                   lighting        lat       long  \\\n",
       "0                       Светлое время суток  55.616777  37.706516   \n",
       "1                       Светлое время суток  55.841157  37.489332   \n",
       "2  В темное время суток, освещение включено  55.713332  37.658944   \n",
       "3                       Светлое время суток  55.655243  37.414176   \n",
       "4                       Светлое время суток  55.756493  37.789315   \n",
       "\n",
       "                      region           category                 date severity  \\\n",
       "0  Орехово-Борисово Северное  Наезд на пешехода  2020-03-24 13:06:00   Легкий   \n",
       "1                Головинский       Столкновение  2018-09-15 11:00:00   Легкий   \n",
       "2                Даниловский  Наезд на пешехода  2016-04-14 21:25:00   Легкий   \n",
       "3                   Солнцево       Столкновение  2019-06-20 18:15:00   Легкий   \n",
       "4                     Перово  Наезд на пешехода  2016-04-04 11:50:00   Легкий   \n",
       "\n",
       "   dead  injured  n_participants  ... Эксплуатация  \\\n",
       "0     0        1               2  ...            0   \n",
       "1     0        1               2  ...            0   \n",
       "2     0        1               2  ...            0   \n",
       "3     0        1               2  ...            0   \n",
       "4     0        1               2  ...            0   \n",
       "\n",
       "   Нарушение правил подачи/приема сигналов  Другое  Нарушения при движении  \\\n",
       "0                                        0       0                       0   \n",
       "1                                        0       0                       0   \n",
       "2                                        0       0                       0   \n",
       "3                                        0       0                       0   \n",
       "4                                        0       0                       0   \n",
       "\n",
       "   Пешеходы  Скончался до госпитализации  Не пострадал  Легкие травмы  \\\n",
       "0         0                            0             0              0   \n",
       "1         0                            0             0              0   \n",
       "2         0                            0             0              0   \n",
       "3         0                            0             0              0   \n",
       "4         0                            0             0              0   \n",
       "\n",
       "   Ранения  Скончался после госпитализации  \n",
       "0        1                               0  \n",
       "1        0                               0  \n",
       "2        1                               0  \n",
       "3        0                               0  \n",
       "4        1                               0  \n",
       "\n",
       "[5 rows x 99 columns]"
      ],
      "text/html": "<div>\n<style scoped>\n    .dataframe tbody tr th:only-of-type {\n        vertical-align: middle;\n    }\n\n    .dataframe tbody tr th {\n        vertical-align: top;\n    }\n\n    .dataframe thead th {\n        text-align: right;\n    }\n</style>\n<table border=\"1\" class=\"dataframe\">\n  <thead>\n    <tr style=\"text-align: right;\">\n      <th></th>\n      <th>lighting</th>\n      <th>lat</th>\n      <th>long</th>\n      <th>region</th>\n      <th>category</th>\n      <th>date</th>\n      <th>severity</th>\n      <th>dead</th>\n      <th>injured</th>\n      <th>n_participants</th>\n      <th>...</th>\n      <th>Эксплуатация</th>\n      <th>Нарушение правил подачи/приема сигналов</th>\n      <th>Другое</th>\n      <th>Нарушения при движении</th>\n      <th>Пешеходы</th>\n      <th>Скончался до госпитализации</th>\n      <th>Не пострадал</th>\n      <th>Легкие травмы</th>\n      <th>Ранения</th>\n      <th>Скончался после госпитализации</th>\n    </tr>\n  </thead>\n  <tbody>\n    <tr>\n      <th>0</th>\n      <td>Светлое время суток</td>\n      <td>55.616777</td>\n      <td>37.706516</td>\n      <td>Орехово-Борисово Северное</td>\n      <td>Наезд на пешехода</td>\n      <td>2020-03-24 13:06:00</td>\n      <td>Легкий</td>\n      <td>0</td>\n      <td>1</td>\n      <td>2</td>\n      <td>...</td>\n      <td>0</td>\n      <td>0</td>\n      <td>0</td>\n      <td>0</td>\n      <td>0</td>\n      <td>0</td>\n      <td>0</td>\n      <td>0</td>\n      <td>1</td>\n      <td>0</td>\n    </tr>\n    <tr>\n      <th>1</th>\n      <td>Светлое время суток</td>\n      <td>55.841157</td>\n      <td>37.489332</td>\n      <td>Головинский</td>\n      <td>Столкновение</td>\n      <td>2018-09-15 11:00:00</td>\n      <td>Легкий</td>\n      <td>0</td>\n      <td>1</td>\n      <td>2</td>\n      <td>...</td>\n      <td>0</td>\n      <td>0</td>\n      <td>0</td>\n      <td>0</td>\n      <td>0</td>\n      <td>0</td>\n      <td>0</td>\n      <td>0</td>\n      <td>0</td>\n      <td>0</td>\n    </tr>\n    <tr>\n      <th>2</th>\n      <td>В темное время суток, освещение включено</td>\n      <td>55.713332</td>\n      <td>37.658944</td>\n      <td>Даниловский</td>\n      <td>Наезд на пешехода</td>\n      <td>2016-04-14 21:25:00</td>\n      <td>Легкий</td>\n      <td>0</td>\n      <td>1</td>\n      <td>2</td>\n      <td>...</td>\n      <td>0</td>\n      <td>0</td>\n      <td>0</td>\n      <td>0</td>\n      <td>0</td>\n      <td>0</td>\n      <td>0</td>\n      <td>0</td>\n      <td>1</td>\n      <td>0</td>\n    </tr>\n    <tr>\n      <th>3</th>\n      <td>Светлое время суток</td>\n      <td>55.655243</td>\n      <td>37.414176</td>\n      <td>Солнцево</td>\n      <td>Столкновение</td>\n      <td>2019-06-20 18:15:00</td>\n      <td>Легкий</td>\n      <td>0</td>\n      <td>1</td>\n      <td>2</td>\n      <td>...</td>\n      <td>0</td>\n      <td>0</td>\n      <td>0</td>\n      <td>0</td>\n      <td>0</td>\n      <td>0</td>\n      <td>0</td>\n      <td>0</td>\n      <td>0</td>\n      <td>0</td>\n    </tr>\n    <tr>\n      <th>4</th>\n      <td>Светлое время суток</td>\n      <td>55.756493</td>\n      <td>37.789315</td>\n      <td>Перово</td>\n      <td>Наезд на пешехода</td>\n      <td>2016-04-04 11:50:00</td>\n      <td>Легкий</td>\n      <td>0</td>\n      <td>1</td>\n      <td>2</td>\n      <td>...</td>\n      <td>0</td>\n      <td>0</td>\n      <td>0</td>\n      <td>0</td>\n      <td>0</td>\n      <td>0</td>\n      <td>0</td>\n      <td>0</td>\n      <td>1</td>\n      <td>0</td>\n    </tr>\n  </tbody>\n</table>\n<p>5 rows × 99 columns</p>\n</div>"
     },
     "metadata": {},
     "execution_count": 2
    }
   ]
  },
  {
   "source": [
    "Data contains flawed coordinates that are quite remote from Moscow, that's why we need to bound them."
   ],
   "cell_type": "markdown",
   "metadata": {}
  },
  {
   "cell_type": "code",
   "execution_count": 3,
   "metadata": {},
   "outputs": [],
   "source": [
    "moskva_new = moskva[(moskva['long'] < 37.9545100) & (moskva['long'] > 37.1813900) & (moskva['lat'] < 55.9825000) & (moskva['lat'] > 55.1339600)].copy()"
   ]
  },
  {
   "source": [
    "Display probability of death by category of accident."
   ],
   "cell_type": "markdown",
   "metadata": {}
  },
  {
   "source": [
    "categor_df = moskva_new[['category', 'dead', 'injured', 'n_participants']].groupby('category').sum()\n",
    "categor_df[\"P_death\"] = round(categor_df['dead'] / categor_df['n_participants'], 2)\n",
    "categor_df"
   ],
   "cell_type": "code",
   "metadata": {},
   "execution_count": 4,
   "outputs": [
    {
     "output_type": "execute_result",
     "data": {
      "text/plain": [
       "                                                    dead  injured  \\\n",
       "category                                                            \n",
       "Возгорание вследствие технической неисправности...     0        2   \n",
       "Иной вид ДТП                                           4       57   \n",
       "Наезд на велосипедиста                                22     1498   \n",
       "Наезд на внезапно возникшее препятствие                0       16   \n",
       "Наезд на гужевой транспорт                             0        1   \n",
       "Наезд на животное                                      1        9   \n",
       "Наезд на лицо, не являющееся участником дорожно...     3       15   \n",
       "Наезд на лицо, не являющееся участником дорожно...     5       29   \n",
       "Наезд на лицо, не являющееся участником дорожно...    22       45   \n",
       "Наезд на пешехода                                   1347    19158   \n",
       "Наезд на препятствие                                 366     3803   \n",
       "Наезд на стоящее ТС                                  259     3478   \n",
       "Опрокидывание                                         32      615   \n",
       "Отбрасывание предмета                                  1       31   \n",
       "Падение груза                                          0        9   \n",
       "Падение пассажира                                     22     2629   \n",
       "Столкновение                                         763    30773   \n",
       "Съезд с дороги                                        10       63   \n",
       "\n",
       "                                                    n_participants  P_death  \n",
       "category                                                                     \n",
       "Возгорание вследствие технической неисправности...               3     0.00  \n",
       "Иной вид ДТП                                                   103     0.04  \n",
       "Наезд на велосипедиста                                        3042     0.01  \n",
       "Наезд на внезапно возникшее препятствие                         34     0.00  \n",
       "Наезд на гужевой транспорт                                       2     0.00  \n",
       "Наезд на животное                                               14     0.07  \n",
       "Наезд на лицо, не являющееся участником дорожно...              31     0.10  \n",
       "Наезд на лицо, не являющееся участником дорожно...              67     0.07  \n",
       "Наезд на лицо, не являющееся участником дорожно...             121     0.18  \n",
       "Наезд на пешехода                                            40370     0.03  \n",
       "Наезд на препятствие                                          5374     0.07  \n",
       "Наезд на стоящее ТС                                           7400     0.04  \n",
       "Опрокидывание                                                  782     0.04  \n",
       "Отбрасывание предмета                                           66     0.02  \n",
       "Падение груза                                                   17     0.00  \n",
       "Падение пассажира                                             5241     0.00  \n",
       "Столкновение                                                 69179     0.01  \n",
       "Съезд с дороги                                                  88     0.11  "
      ],
      "text/html": "<div>\n<style scoped>\n    .dataframe tbody tr th:only-of-type {\n        vertical-align: middle;\n    }\n\n    .dataframe tbody tr th {\n        vertical-align: top;\n    }\n\n    .dataframe thead th {\n        text-align: right;\n    }\n</style>\n<table border=\"1\" class=\"dataframe\">\n  <thead>\n    <tr style=\"text-align: right;\">\n      <th></th>\n      <th>dead</th>\n      <th>injured</th>\n      <th>n_participants</th>\n      <th>P_death</th>\n    </tr>\n    <tr>\n      <th>category</th>\n      <th></th>\n      <th></th>\n      <th></th>\n      <th></th>\n    </tr>\n  </thead>\n  <tbody>\n    <tr>\n      <th>Возгорание вследствие технической неисправности движущегося или остановившегося ТС, участвующего в дорожном движении.</th>\n      <td>0</td>\n      <td>2</td>\n      <td>3</td>\n      <td>0.00</td>\n    </tr>\n    <tr>\n      <th>Иной вид ДТП</th>\n      <td>4</td>\n      <td>57</td>\n      <td>103</td>\n      <td>0.04</td>\n    </tr>\n    <tr>\n      <th>Наезд на велосипедиста</th>\n      <td>22</td>\n      <td>1498</td>\n      <td>3042</td>\n      <td>0.01</td>\n    </tr>\n    <tr>\n      <th>Наезд на внезапно возникшее препятствие</th>\n      <td>0</td>\n      <td>16</td>\n      <td>34</td>\n      <td>0.00</td>\n    </tr>\n    <tr>\n      <th>Наезд на гужевой транспорт</th>\n      <td>0</td>\n      <td>1</td>\n      <td>2</td>\n      <td>0.00</td>\n    </tr>\n    <tr>\n      <th>Наезд на животное</th>\n      <td>1</td>\n      <td>9</td>\n      <td>14</td>\n      <td>0.07</td>\n    </tr>\n    <tr>\n      <th>Наезд на лицо, не являющееся участником дорожного движения, осуществляющее какую-либо другую деятельность</th>\n      <td>3</td>\n      <td>15</td>\n      <td>31</td>\n      <td>0.10</td>\n    </tr>\n    <tr>\n      <th>Наезд на лицо, не являющееся участником дорожного движения, осуществляющее несение службы</th>\n      <td>5</td>\n      <td>29</td>\n      <td>67</td>\n      <td>0.07</td>\n    </tr>\n    <tr>\n      <th>Наезд на лицо, не являющееся участником дорожного движения, осуществляющее производство работ</th>\n      <td>22</td>\n      <td>45</td>\n      <td>121</td>\n      <td>0.18</td>\n    </tr>\n    <tr>\n      <th>Наезд на пешехода</th>\n      <td>1347</td>\n      <td>19158</td>\n      <td>40370</td>\n      <td>0.03</td>\n    </tr>\n    <tr>\n      <th>Наезд на препятствие</th>\n      <td>366</td>\n      <td>3803</td>\n      <td>5374</td>\n      <td>0.07</td>\n    </tr>\n    <tr>\n      <th>Наезд на стоящее ТС</th>\n      <td>259</td>\n      <td>3478</td>\n      <td>7400</td>\n      <td>0.04</td>\n    </tr>\n    <tr>\n      <th>Опрокидывание</th>\n      <td>32</td>\n      <td>615</td>\n      <td>782</td>\n      <td>0.04</td>\n    </tr>\n    <tr>\n      <th>Отбрасывание предмета</th>\n      <td>1</td>\n      <td>31</td>\n      <td>66</td>\n      <td>0.02</td>\n    </tr>\n    <tr>\n      <th>Падение груза</th>\n      <td>0</td>\n      <td>9</td>\n      <td>17</td>\n      <td>0.00</td>\n    </tr>\n    <tr>\n      <th>Падение пассажира</th>\n      <td>22</td>\n      <td>2629</td>\n      <td>5241</td>\n      <td>0.00</td>\n    </tr>\n    <tr>\n      <th>Столкновение</th>\n      <td>763</td>\n      <td>30773</td>\n      <td>69179</td>\n      <td>0.01</td>\n    </tr>\n    <tr>\n      <th>Съезд с дороги</th>\n      <td>10</td>\n      <td>63</td>\n      <td>88</td>\n      <td>0.11</td>\n    </tr>\n  </tbody>\n</table>\n</div>"
     },
     "metadata": {},
     "execution_count": 4
    }
   ]
  },
  {
   "source": [
    "Heavy map, which contains all accidents inside defined boundaries"
   ],
   "cell_type": "markdown",
   "metadata": {}
  },
  {
   "source": [
    "map_ = folium.Map([55.75215, 37.61819], zoom_start=10)\n",
    "for id, row in moskva_new.iterrows():\n",
    "    folium.Circle([row['lat'], row['long']],\n",
    "                  radius=10).add_to(map_)"
   ],
   "cell_type": "code",
   "metadata": {},
   "execution_count": 5,
   "outputs": []
  },
  {
   "source": [
    "The following functions are responsible for defining DBSCAN model and displaying problematic regions on folium map"
   ],
   "cell_type": "markdown",
   "metadata": {}
  },
  {
   "cell_type": "code",
   "execution_count": 6,
   "metadata": {},
   "outputs": [],
   "source": [
    "def select_problematic_clusters(coordinates, distance: float, min_samples: int) -> DBSCAN:\n",
    "    \"\"\"\n",
    "    ==========\n",
    "    Parameters:\n",
    "        coordinates: pd.Dataframe or np.array containing latitude and longitude\n",
    "        distance: float, neighbourhood distance for DBSCAN;\n",
    "\n",
    "        intuitively, this parameter helps us to define the most problematic regions with accidents, according to which\n",
    "        neighbourhood distance between the accidents is at most 'distance' km\n",
    "\n",
    "        min_samples: int, number of samples for accident to be considered as core point by DBSCAN\n",
    "        \n",
    "        intuitively, min_samples helps us regulate the density of problematic regions\n",
    "\n",
    "    ==========\n",
    "    Return:\n",
    "        DBSCAN – fitted DBSCAN model\n",
    "    \"\"\"\n",
    "    model = DBSCAN(eps=distance/6371., min_samples=min_samples, metric='haversine')\n",
    "    model.fit(np.radians(coordinates))\n",
    "    return model\n",
    "    \n",
    "\n",
    "def DBSCAN_clustered_map(data, cluster_model, dead: bool=True, hard: bool=True, light: bool=False):\n",
    "   \"\"\"\n",
    "   Create map with problematic clusters, colour them depending on the severity\n",
    "\n",
    "   ==========\n",
    "   Parameters:\n",
    "      data: pd.DataFrame - public transport stops data (coordinates + severity)\n",
    "      cluster_model: DBSCAN model\n",
    "      dead: bool, include lethal accidents\n",
    "      hard: bool, include severe accidents\n",
    "      light: bool, include non-severe accidents\n",
    "\n",
    "\n",
    "   ==========\n",
    "   Returns: \n",
    "      folium.Map - map with coloured clusters\n",
    "   \"\"\"\n",
    "   labels = cluster_model.labels_\n",
    "   df = data[['lat', 'long', 'severity']].copy()\n",
    "   df.insert(2, \"labels\", labels + 1)\n",
    "\n",
    "   Moscow_Map = folium.Map([55.75215, 37.61819], zoom_start=11)\n",
    "   for id, row in df.iterrows():\n",
    "      idx = row.labels - 1\n",
    "      if idx >= 0:\n",
    "         if row.severity=='С погибшими' and dead:\n",
    "            folium.Circle([row.lat, row.long],\n",
    "                  radius=40, color='red').add_to(Moscow_Map)\n",
    "         elif row.severity=='Тяжёлый' and hard:\n",
    "            folium.Circle([row.lat, row.long],\n",
    "                  radius=26, color='purple').add_to(Moscow_Map)\n",
    "         elif row.severity=='Легкий' and light:\n",
    "            folium.Circle([row.lat, row.long],\n",
    "                  radius=5, color='lightgreen').add_to(Moscow_Map)\n",
    "   \n",
    "   return Moscow_Map"
   ]
  },
  {
   "source": [
    "prob_regions = DBSCAN_clustered_map(moskva_new, select_problematic_clusters(moskva_new[['lat', 'long']].values, 0.1, 15))"
   ],
   "cell_type": "code",
   "metadata": {},
   "execution_count": 7,
   "outputs": []
  },
  {
   "cell_type": "code",
   "execution_count": 8,
   "metadata": {},
   "outputs": [],
   "source": [
    "from utils.save_map import save_map_html_and_png"
   ]
  },
  {
   "cell_type": "code",
   "execution_count": 9,
   "metadata": {},
   "outputs": [],
   "source": [
    "save_map_html_and_png(prob_regions, 'msc_problem_regions')"
   ]
  },
  {
   "cell_type": "code",
   "execution_count": null,
   "metadata": {},
   "outputs": [],
   "source": []
  }
 ]
}