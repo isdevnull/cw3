{
 "metadata": {
  "language_info": {
   "codemirror_mode": {
    "name": "ipython",
    "version": 3
   },
   "file_extension": ".py",
   "mimetype": "text/x-python",
   "name": "python",
   "nbconvert_exporter": "python",
   "pygments_lexer": "ipython3",
   "version": "3.9.5"
  },
  "orig_nbformat": 2,
  "kernelspec": {
   "name": "python3",
   "display_name": "Python 3.9.5 64-bit ('project': venv)"
  },
  "metadata": {
   "interpreter": {
    "hash": "24e0e0a789e26c260634a2c30bea0218301c87566847258cfd0db842bfb7e8ea"
   }
  },
  "interpreter": {
   "hash": "9c37a91bca3170d8f8c7af294b244aa692cbaf25f994b6e11faa8be11c617b70"
  }
 },
 "nbformat": 4,
 "nbformat_minor": 2,
 "cells": [
  {
   "cell_type": "code",
   "execution_count": 1,
   "metadata": {},
   "outputs": [],
   "source": [
    "import numpy as np\n",
    "import pandas as pd\n",
    "import folium"
   ]
  },
  {
   "cell_type": "code",
   "execution_count": 2,
   "metadata": {},
   "outputs": [
    {
     "output_type": "stream",
     "name": "stdout",
     "text": [
      "./data/moskva.geojson has been already downloaded!\n"
     ]
    }
   ],
   "source": [
    "! ./check_if_data_is_downloaded.sh"
   ]
  },
  {
   "cell_type": "code",
   "execution_count": 3,
   "metadata": {},
   "outputs": [],
   "source": [
    "path_moscow = \"./data/moskva.geojson\"\n",
    "data_moscow = pd.read_json(path_moscow)"
   ]
  },
  {
   "cell_type": "code",
   "execution_count": 4,
   "metadata": {},
   "outputs": [],
   "source": [
    "data_moscow = pd.json_normalize(data_moscow.features)"
   ]
  },
  {
   "cell_type": "code",
   "execution_count": 5,
   "metadata": {},
   "outputs": [],
   "source": [
    "%reload_ext autoreload\n",
    "%autoreload 2\n",
    "from utils.transport import transport_to_groups\n",
    "from utils.health_status import injury_to_severity_driver, injury_to_severity_pedestrian\n",
    "from utils.violations import violation_encoding_driver, violation_encoding_pedestrian\n",
    "from utils.nearby import property2cat"
   ]
  },
  {
   "cell_type": "code",
   "execution_count": 6,
   "metadata": {},
   "outputs": [
    {
     "output_type": "execute_result",
     "data": {
      "text/plain": [
       "      type geometry.type    geometry.coordinates  properties.id  \\\n",
       "0  Feature         Point  [37.706516, 55.616777]        1532855   \n",
       "1  Feature         Point  [37.489332, 55.841157]        1530311   \n",
       "2  Feature         Point  [37.658944, 55.713332]        1529756   \n",
       "3  Feature         Point  [37.414176, 55.655243]        1529209   \n",
       "4  Feature         Point  [37.789315, 55.756493]        1529849   \n",
       "\n",
       "                       properties.tags  \\\n",
       "0  [Дорожно-транспортные происшествия]   \n",
       "1  [Дорожно-транспортные происшествия]   \n",
       "2  [Дорожно-транспортные происшествия]   \n",
       "3  [Дорожно-транспортные происшествия]   \n",
       "4  [Дорожно-транспортные происшествия]   \n",
       "\n",
       "                           properties.light  properties.point.lat  \\\n",
       "0                       Светлое время суток             55.616777   \n",
       "1                       Светлое время суток             55.841157   \n",
       "2  В темное время суток, освещение включено             55.713332   \n",
       "3                       Светлое время суток             55.655243   \n",
       "4                       Светлое время суток             55.756493   \n",
       "\n",
       "   properties.point.long                                  properties.nearby  \\\n",
       "0              37.706516  [Многоквартирные жилые дома, Внутридворовая те...   \n",
       "1              37.489332  [Многоквартирные жилые дома, Выезд с прилегающ...   \n",
       "2              37.658944  [Многоквартирные жилые дома, Нерегулируемый пе...   \n",
       "3              37.414176  [Многоквартирные жилые дома, Административные ...   \n",
       "4              37.789315  [Многоквартирные жилые дома, Выезд с прилегающ...   \n",
       "\n",
       "           properties.region  ...  properties.datetime properties.severity  \\\n",
       "0  Орехово-Борисово Северное  ...  2020-03-24 13:06:00              Легкий   \n",
       "1                Головинский  ...  2018-09-15 11:00:00              Легкий   \n",
       "2                Даниловский  ...  2016-04-14 21:25:00              Легкий   \n",
       "3                   Солнцево  ...  2019-06-20 18:15:00              Легкий   \n",
       "4                     Перово  ...  2016-04-04 11:50:00              Легкий   \n",
       "\n",
       "                                 properties.vehicles properties.dead_count  \\\n",
       "0  [{'year': 2012, 'brand': 'CHEVROLET', 'color':...                     0   \n",
       "1  [{'year': 2008, 'brand': 'MITSUBISHI', 'color'...                     0   \n",
       "2                                                 []                     0   \n",
       "3  [{'year': 2019, 'brand': 'KIA', 'color': 'Белы...                     0   \n",
       "4  [{'year': 2008, 'brand': 'MAZDA', 'color': 'Не...                     0   \n",
       "\n",
       "                             properties.participants properties.injured_count  \\\n",
       "0  [{'role': 'Пешеход', 'gender': 'Женский', 'vio...                        1   \n",
       "1                                                 []                        1   \n",
       "2  [{'role': 'Пешеход', 'gender': 'Мужской', 'vio...                        1   \n",
       "3                                                 []                        1   \n",
       "4  [{'role': 'Пешеход', 'gender': 'Мужской', 'vio...                        1   \n",
       "\n",
       "   properties.parent_region properties.road_conditions  \\\n",
       "0                    Москва                    [Сухое]   \n",
       "1                    Москва                    [Сухое]   \n",
       "2                    Москва                    [Сухое]   \n",
       "3                    Москва                    [Сухое]   \n",
       "4                    Москва                    [Сухое]   \n",
       "\n",
       "   properties.participants_count properties.participant_categories  \n",
       "0                              2         [Все участники, Пешеходы]  \n",
       "1                              2                   [Все участники]  \n",
       "2                              2         [Все участники, Пешеходы]  \n",
       "3                              2                   [Все участники]  \n",
       "4                              2         [Все участники, Пешеходы]  \n",
       "\n",
       "[5 rows x 23 columns]"
      ],
      "text/html": "<div>\n<style scoped>\n    .dataframe tbody tr th:only-of-type {\n        vertical-align: middle;\n    }\n\n    .dataframe tbody tr th {\n        vertical-align: top;\n    }\n\n    .dataframe thead th {\n        text-align: right;\n    }\n</style>\n<table border=\"1\" class=\"dataframe\">\n  <thead>\n    <tr style=\"text-align: right;\">\n      <th></th>\n      <th>type</th>\n      <th>geometry.type</th>\n      <th>geometry.coordinates</th>\n      <th>properties.id</th>\n      <th>properties.tags</th>\n      <th>properties.light</th>\n      <th>properties.point.lat</th>\n      <th>properties.point.long</th>\n      <th>properties.nearby</th>\n      <th>properties.region</th>\n      <th>...</th>\n      <th>properties.datetime</th>\n      <th>properties.severity</th>\n      <th>properties.vehicles</th>\n      <th>properties.dead_count</th>\n      <th>properties.participants</th>\n      <th>properties.injured_count</th>\n      <th>properties.parent_region</th>\n      <th>properties.road_conditions</th>\n      <th>properties.participants_count</th>\n      <th>properties.participant_categories</th>\n    </tr>\n  </thead>\n  <tbody>\n    <tr>\n      <th>0</th>\n      <td>Feature</td>\n      <td>Point</td>\n      <td>[37.706516, 55.616777]</td>\n      <td>1532855</td>\n      <td>[Дорожно-транспортные происшествия]</td>\n      <td>Светлое время суток</td>\n      <td>55.616777</td>\n      <td>37.706516</td>\n      <td>[Многоквартирные жилые дома, Внутридворовая те...</td>\n      <td>Орехово-Борисово Северное</td>\n      <td>...</td>\n      <td>2020-03-24 13:06:00</td>\n      <td>Легкий</td>\n      <td>[{'year': 2012, 'brand': 'CHEVROLET', 'color':...</td>\n      <td>0</td>\n      <td>[{'role': 'Пешеход', 'gender': 'Женский', 'vio...</td>\n      <td>1</td>\n      <td>Москва</td>\n      <td>[Сухое]</td>\n      <td>2</td>\n      <td>[Все участники, Пешеходы]</td>\n    </tr>\n    <tr>\n      <th>1</th>\n      <td>Feature</td>\n      <td>Point</td>\n      <td>[37.489332, 55.841157]</td>\n      <td>1530311</td>\n      <td>[Дорожно-транспортные происшествия]</td>\n      <td>Светлое время суток</td>\n      <td>55.841157</td>\n      <td>37.489332</td>\n      <td>[Многоквартирные жилые дома, Выезд с прилегающ...</td>\n      <td>Головинский</td>\n      <td>...</td>\n      <td>2018-09-15 11:00:00</td>\n      <td>Легкий</td>\n      <td>[{'year': 2008, 'brand': 'MITSUBISHI', 'color'...</td>\n      <td>0</td>\n      <td>[]</td>\n      <td>1</td>\n      <td>Москва</td>\n      <td>[Сухое]</td>\n      <td>2</td>\n      <td>[Все участники]</td>\n    </tr>\n    <tr>\n      <th>2</th>\n      <td>Feature</td>\n      <td>Point</td>\n      <td>[37.658944, 55.713332]</td>\n      <td>1529756</td>\n      <td>[Дорожно-транспортные происшествия]</td>\n      <td>В темное время суток, освещение включено</td>\n      <td>55.713332</td>\n      <td>37.658944</td>\n      <td>[Многоквартирные жилые дома, Нерегулируемый пе...</td>\n      <td>Даниловский</td>\n      <td>...</td>\n      <td>2016-04-14 21:25:00</td>\n      <td>Легкий</td>\n      <td>[]</td>\n      <td>0</td>\n      <td>[{'role': 'Пешеход', 'gender': 'Мужской', 'vio...</td>\n      <td>1</td>\n      <td>Москва</td>\n      <td>[Сухое]</td>\n      <td>2</td>\n      <td>[Все участники, Пешеходы]</td>\n    </tr>\n    <tr>\n      <th>3</th>\n      <td>Feature</td>\n      <td>Point</td>\n      <td>[37.414176, 55.655243]</td>\n      <td>1529209</td>\n      <td>[Дорожно-транспортные происшествия]</td>\n      <td>Светлое время суток</td>\n      <td>55.655243</td>\n      <td>37.414176</td>\n      <td>[Многоквартирные жилые дома, Административные ...</td>\n      <td>Солнцево</td>\n      <td>...</td>\n      <td>2019-06-20 18:15:00</td>\n      <td>Легкий</td>\n      <td>[{'year': 2019, 'brand': 'KIA', 'color': 'Белы...</td>\n      <td>0</td>\n      <td>[]</td>\n      <td>1</td>\n      <td>Москва</td>\n      <td>[Сухое]</td>\n      <td>2</td>\n      <td>[Все участники]</td>\n    </tr>\n    <tr>\n      <th>4</th>\n      <td>Feature</td>\n      <td>Point</td>\n      <td>[37.789315, 55.756493]</td>\n      <td>1529849</td>\n      <td>[Дорожно-транспортные происшествия]</td>\n      <td>Светлое время суток</td>\n      <td>55.756493</td>\n      <td>37.789315</td>\n      <td>[Многоквартирные жилые дома, Выезд с прилегающ...</td>\n      <td>Перово</td>\n      <td>...</td>\n      <td>2016-04-04 11:50:00</td>\n      <td>Легкий</td>\n      <td>[{'year': 2008, 'brand': 'MAZDA', 'color': 'Не...</td>\n      <td>0</td>\n      <td>[{'role': 'Пешеход', 'gender': 'Мужской', 'vio...</td>\n      <td>1</td>\n      <td>Москва</td>\n      <td>[Сухое]</td>\n      <td>2</td>\n      <td>[Все участники, Пешеходы]</td>\n    </tr>\n  </tbody>\n</table>\n<p>5 rows × 23 columns</p>\n</div>"
     },
     "metadata": {},
     "execution_count": 6
    }
   ],
   "source": [
    "data_moscow.head(5)"
   ]
  },
  {
   "cell_type": "code",
   "execution_count": 7,
   "metadata": {},
   "outputs": [],
   "source": [
    "data_moscow['vehicles'] = data_moscow['properties.vehicles'].apply(lambda x: [transport_to_groups[car['category']] for car in x]) # list of vehicles which were involved in an accident\n",
    "\n",
    "data_moscow['vehicle_violations'] = data_moscow['properties.vehicles'].apply(lambda x: [violation_encoding_driver[v] for car in x for person in car['participants'] for v in person['violations'] if person['violations']]) # list of violations made by participants\n",
    "\n",
    "data_moscow['health_status_drivers'] = data_moscow['properties.vehicles'].apply(lambda x: [injury_to_severity_driver[person['health_status']] for car in x for person in car['participants'] if person['health_status']]) # list of injuries/health issues in an accident\n",
    "\n",
    "data_moscow['experience'] = data_moscow['properties.vehicles'].apply(lambda x: [participant['years_of_driving_experience'] if participant['years_of_driving_experience'] else 0 for car in x for participant in car['participants'] if participant['role'] == 'Водитель']) # all driver participants driving experience\n",
    "\n",
    "data_moscow['nearby_objects'] = data_moscow['properties.nearby'].apply(lambda x: [property2cat[obj] for obj in x])\n",
    "\n",
    "data_moscow['pedestrian_violations'] = data_moscow['properties.participants'].apply(lambda x: [violation_encoding_pedestrian[v] for person in x for v in person['violations']])\n",
    "\n",
    "data_moscow['health_status_pedestrians'] = data_moscow['properties.participants'].apply(lambda x: [injury_to_severity_pedestrian[person['health_status']] for person in x if person['health_status']])"
   ]
  },
  {
   "cell_type": "code",
   "execution_count": 8,
   "metadata": {},
   "outputs": [],
   "source": [
    "def get_gender_of_driver(x):\n",
    "    hs = []\n",
    "    for car in x:\n",
    "        driver_g = car['participants'][0]['gender']\n",
    "        hs.append(driver_g)\n",
    "    return hs\n",
    "    \n",
    "def get_p(x):\n",
    "    x = np.array(x)\n",
    "    if len(x):\n",
    "        p = len(x[x=='Женский']) / len(x)\n",
    "        return np.float32(p)\n",
    "    return np.NAN\n",
    "\n",
    "data_moscow['Driver_gender'] = data_moscow['properties.vehicles'].apply(lambda x: get_gender_of_driver(x))\n",
    "data_moscow['w_percent'] = data_moscow['Driver_gender'].apply(lambda x: get_p(x))\n",
    "del data_moscow['Driver_gender']"
   ]
  },
  {
   "cell_type": "code",
   "execution_count": 9,
   "metadata": {},
   "outputs": [],
   "source": [
    "del data_moscow['type']\n",
    "del data_moscow['geometry.type']\n",
    "del data_moscow['properties.id']\n",
    "del data_moscow['properties.tags']\n",
    "del data_moscow['geometry.coordinates']\n",
    "del data_moscow['properties.address']\n",
    "del data_moscow['properties.parent_region']\n",
    "del data_moscow['properties.participant_categories']\n",
    "del data_moscow['properties.vehicles']\n",
    "del data_moscow['properties.participants']\n",
    "del data_moscow['properties.nearby']"
   ]
  },
  {
   "cell_type": "code",
   "execution_count": 10,
   "metadata": {},
   "outputs": [
    {
     "output_type": "execute_result",
     "data": {
      "text/plain": [
       "                           properties.light  properties.point.lat  \\\n",
       "0                       Светлое время суток             55.616777   \n",
       "1                       Светлое время суток             55.841157   \n",
       "2  В темное время суток, освещение включено             55.713332   \n",
       "3                       Светлое время суток             55.655243   \n",
       "4                       Светлое время суток             55.756493   \n",
       "\n",
       "   properties.point.long          properties.region properties.weather  \\\n",
       "0              37.706516  Орехово-Борисово Северное             [Ясно]   \n",
       "1              37.489332                Головинский         [Пасмурно]   \n",
       "2              37.658944                Даниловский         [Пасмурно]   \n",
       "3              37.414176                   Солнцево             [Ясно]   \n",
       "4              37.789315                     Перово             [Ясно]   \n",
       "\n",
       "  properties.category  properties.datetime properties.severity  \\\n",
       "0   Наезд на пешехода  2020-03-24 13:06:00              Легкий   \n",
       "1        Столкновение  2018-09-15 11:00:00              Легкий   \n",
       "2   Наезд на пешехода  2016-04-14 21:25:00              Легкий   \n",
       "3        Столкновение  2019-06-20 18:15:00              Легкий   \n",
       "4   Наезд на пешехода  2016-04-04 11:50:00              Легкий   \n",
       "\n",
       "   properties.dead_count  properties.injured_count properties.road_conditions  \\\n",
       "0                      0                         1                    [Сухое]   \n",
       "1                      0                         1                    [Сухое]   \n",
       "2                      0                         1                    [Сухое]   \n",
       "3                      0                         1                    [Сухое]   \n",
       "4                      0                         1                    [Сухое]   \n",
       "\n",
       "   properties.participants_count                                    vehicles  \\\n",
       "0                              2                       [Легковые автомобили]   \n",
       "1                              2  [Легковые автомобили, Грузовые автомобили]   \n",
       "2                              2                                          []   \n",
       "3                              2  [Легковые автомобили, Легковые автомобили]   \n",
       "4                              2                       [Легковые автомобили]   \n",
       "\n",
       "                                  vehicle_violations  \\\n",
       "0                                  [Водитель Другое]   \n",
       "1                                  [Водитель Другое]   \n",
       "2                                                 []   \n",
       "3  [Водитель Нарушения при движении, Водитель Дру...   \n",
       "4  [Водитель Нарушения при движении, Водитель Дру...   \n",
       "\n",
       "                       health_status_drivers experience  \\\n",
       "0                    [Водитель Не пострадал]       [28]   \n",
       "1  [Водитель Ранения, Водитель Не пострадал]    [20, 6]   \n",
       "2                                         []         []   \n",
       "3  [Водитель Не пострадал, Водитель Ранения]    [12, 1]   \n",
       "4                    [Водитель Не пострадал]       [15]   \n",
       "\n",
       "                                      nearby_objects pedestrian_violations  \\\n",
       "0         [Иные объекты, Иные объекты, Иные объекты]                    []   \n",
       "1  [Иные объекты, Места скопления автотранспорта,...                    []   \n",
       "2  [Иные объекты, Нерегулируемые пешеходные перех...                    []   \n",
       "3  [Иные объекты, Иные объекты, Места скопления л...                    []   \n",
       "4  [Иные объекты, Места скопления автотранспорта,...                    []   \n",
       "\n",
       "  health_status_pedestrians  w_percent  \n",
       "0                 [Ранения]        0.0  \n",
       "1                        []        0.5  \n",
       "2                 [Ранения]        NaN  \n",
       "3                        []        0.5  \n",
       "4                 [Ранения]        0.0  "
      ],
      "text/html": "<div>\n<style scoped>\n    .dataframe tbody tr th:only-of-type {\n        vertical-align: middle;\n    }\n\n    .dataframe tbody tr th {\n        vertical-align: top;\n    }\n\n    .dataframe thead th {\n        text-align: right;\n    }\n</style>\n<table border=\"1\" class=\"dataframe\">\n  <thead>\n    <tr style=\"text-align: right;\">\n      <th></th>\n      <th>properties.light</th>\n      <th>properties.point.lat</th>\n      <th>properties.point.long</th>\n      <th>properties.region</th>\n      <th>properties.weather</th>\n      <th>properties.category</th>\n      <th>properties.datetime</th>\n      <th>properties.severity</th>\n      <th>properties.dead_count</th>\n      <th>properties.injured_count</th>\n      <th>properties.road_conditions</th>\n      <th>properties.participants_count</th>\n      <th>vehicles</th>\n      <th>vehicle_violations</th>\n      <th>health_status_drivers</th>\n      <th>experience</th>\n      <th>nearby_objects</th>\n      <th>pedestrian_violations</th>\n      <th>health_status_pedestrians</th>\n      <th>w_percent</th>\n    </tr>\n  </thead>\n  <tbody>\n    <tr>\n      <th>0</th>\n      <td>Светлое время суток</td>\n      <td>55.616777</td>\n      <td>37.706516</td>\n      <td>Орехово-Борисово Северное</td>\n      <td>[Ясно]</td>\n      <td>Наезд на пешехода</td>\n      <td>2020-03-24 13:06:00</td>\n      <td>Легкий</td>\n      <td>0</td>\n      <td>1</td>\n      <td>[Сухое]</td>\n      <td>2</td>\n      <td>[Легковые автомобили]</td>\n      <td>[Водитель Другое]</td>\n      <td>[Водитель Не пострадал]</td>\n      <td>[28]</td>\n      <td>[Иные объекты, Иные объекты, Иные объекты]</td>\n      <td>[]</td>\n      <td>[Ранения]</td>\n      <td>0.0</td>\n    </tr>\n    <tr>\n      <th>1</th>\n      <td>Светлое время суток</td>\n      <td>55.841157</td>\n      <td>37.489332</td>\n      <td>Головинский</td>\n      <td>[Пасмурно]</td>\n      <td>Столкновение</td>\n      <td>2018-09-15 11:00:00</td>\n      <td>Легкий</td>\n      <td>0</td>\n      <td>1</td>\n      <td>[Сухое]</td>\n      <td>2</td>\n      <td>[Легковые автомобили, Грузовые автомобили]</td>\n      <td>[Водитель Другое]</td>\n      <td>[Водитель Ранения, Водитель Не пострадал]</td>\n      <td>[20, 6]</td>\n      <td>[Иные объекты, Места скопления автотранспорта,...</td>\n      <td>[]</td>\n      <td>[]</td>\n      <td>0.5</td>\n    </tr>\n    <tr>\n      <th>2</th>\n      <td>В темное время суток, освещение включено</td>\n      <td>55.713332</td>\n      <td>37.658944</td>\n      <td>Даниловский</td>\n      <td>[Пасмурно]</td>\n      <td>Наезд на пешехода</td>\n      <td>2016-04-14 21:25:00</td>\n      <td>Легкий</td>\n      <td>0</td>\n      <td>1</td>\n      <td>[Сухое]</td>\n      <td>2</td>\n      <td>[]</td>\n      <td>[]</td>\n      <td>[]</td>\n      <td>[]</td>\n      <td>[Иные объекты, Нерегулируемые пешеходные перех...</td>\n      <td>[]</td>\n      <td>[Ранения]</td>\n      <td>NaN</td>\n    </tr>\n    <tr>\n      <th>3</th>\n      <td>Светлое время суток</td>\n      <td>55.655243</td>\n      <td>37.414176</td>\n      <td>Солнцево</td>\n      <td>[Ясно]</td>\n      <td>Столкновение</td>\n      <td>2019-06-20 18:15:00</td>\n      <td>Легкий</td>\n      <td>0</td>\n      <td>1</td>\n      <td>[Сухое]</td>\n      <td>2</td>\n      <td>[Легковые автомобили, Легковые автомобили]</td>\n      <td>[Водитель Нарушения при движении, Водитель Дру...</td>\n      <td>[Водитель Не пострадал, Водитель Ранения]</td>\n      <td>[12, 1]</td>\n      <td>[Иные объекты, Иные объекты, Места скопления л...</td>\n      <td>[]</td>\n      <td>[]</td>\n      <td>0.5</td>\n    </tr>\n    <tr>\n      <th>4</th>\n      <td>Светлое время суток</td>\n      <td>55.756493</td>\n      <td>37.789315</td>\n      <td>Перово</td>\n      <td>[Ясно]</td>\n      <td>Наезд на пешехода</td>\n      <td>2016-04-04 11:50:00</td>\n      <td>Легкий</td>\n      <td>0</td>\n      <td>1</td>\n      <td>[Сухое]</td>\n      <td>2</td>\n      <td>[Легковые автомобили]</td>\n      <td>[Водитель Нарушения при движении, Водитель Дру...</td>\n      <td>[Водитель Не пострадал]</td>\n      <td>[15]</td>\n      <td>[Иные объекты, Места скопления автотранспорта,...</td>\n      <td>[]</td>\n      <td>[Ранения]</td>\n      <td>0.0</td>\n    </tr>\n  </tbody>\n</table>\n</div>"
     },
     "metadata": {},
     "execution_count": 10
    }
   ],
   "source": [
    "data_moscow.head(5)"
   ]
  },
  {
   "cell_type": "code",
   "execution_count": 11,
   "metadata": {},
   "outputs": [],
   "source": [
    "def cat2binary(df):\n",
    "    \"\"\"\n",
    "    Applies one-hot-encoding for selected column.\n",
    "\n",
    "    df: pd.DataFrame\n",
    "    return:\n",
    "          matrix -- encoding\n",
    "          cat2idx.keys() -- keys of dict\n",
    "    \"\"\"\n",
    "\n",
    "    df_size = df.shape[0]\n",
    "\n",
    "    unique = set()\n",
    "    for i in range(df_size):\n",
    "        row = df.iloc[i]\n",
    "        for item in row:\n",
    "            unique.add(item)\n",
    "    \n",
    "    unique_size = len(unique)\n",
    "    cat2idx = {key: idx for idx, key in enumerate(unique)}\n",
    "    matrix = np.zeros((df_size, unique_size), dtype=np.int8) \n",
    "\n",
    "    for i in range(df_size):\n",
    "        arr = df.iloc[i]\n",
    "        for word in arr:\n",
    "            idx = cat2idx[word]\n",
    "            matrix[i, idx] = 1\n",
    "    return matrix, cat2idx.keys()"
   ]
  },
  {
   "cell_type": "code",
   "execution_count": 12,
   "metadata": {},
   "outputs": [
    {
     "output_type": "stream",
     "name": "stdout",
     "text": [
      "CPU times: user 4.85 s, sys: 51.6 ms, total: 4.9 s\nWall time: 5.28 s\n"
     ]
    }
   ],
   "source": [
    "%%time\n",
    "columns2encode = ['properties.weather', 'properties.road_conditions', 'vehicles', 'vehicle_violations', 'health_status_drivers', 'nearby_objects','pedestrian_violations', 'health_status_pedestrians']\n",
    "data2merge = [data_moscow] # list of dataframes\n",
    "for c in columns2encode:\n",
    "    tmp_m, tmp_d = cat2binary(data_moscow[c])\n",
    "    tmp_df = pd.DataFrame(tmp_m, columns=tmp_d)\n",
    "    data2merge.append(tmp_df)"
   ]
  },
  {
   "cell_type": "code",
   "execution_count": 13,
   "metadata": {},
   "outputs": [],
   "source": [
    "clean_data = pd.concat(data2merge, axis=1)"
   ]
  },
  {
   "cell_type": "code",
   "execution_count": 14,
   "metadata": {},
   "outputs": [],
   "source": [
    "clean_data.drop(columns2encode, axis=1, inplace=True)"
   ]
  },
  {
   "cell_type": "code",
   "execution_count": 15,
   "metadata": {},
   "outputs": [],
   "source": [
    "clean_data.rename(columns={\"properties.light\": 'lighting', \"properties.point.lat\": 'long', \"properties.point.long\": 'lat',\n",
    "\"properties.region\": 'region', 'properties.severity': 'severity', 'properties.dead_count': 'dead', 'properties.injured_count': 'injured', 'properties.participants_count': 'n_participants', 'experience': 'dr_exp', 'w_percent': 'w_percent', 'properties.category': 'category', 'properties.datetime': 'date'}, inplace=True)"
   ]
  },
  {
   "cell_type": "code",
   "execution_count": 16,
   "metadata": {},
   "outputs": [
    {
     "output_type": "execute_result",
     "data": {
      "text/plain": [
       "                                   lighting       long        lat  \\\n",
       "0                       Светлое время суток  55.616777  37.706516   \n",
       "1                       Светлое время суток  55.841157  37.489332   \n",
       "2  В темное время суток, освещение включено  55.713332  37.658944   \n",
       "3                       Светлое время суток  55.655243  37.414176   \n",
       "4                       Светлое время суток  55.756493  37.789315   \n",
       "\n",
       "                      region           category                 date severity  \\\n",
       "0  Орехово-Борисово Северное  Наезд на пешехода  2020-03-24 13:06:00   Легкий   \n",
       "1                Головинский       Столкновение  2018-09-15 11:00:00   Легкий   \n",
       "2                Даниловский  Наезд на пешехода  2016-04-14 21:25:00   Легкий   \n",
       "3                   Солнцево       Столкновение  2019-06-20 18:15:00   Легкий   \n",
       "4                     Перово  Наезд на пешехода  2016-04-04 11:50:00   Легкий   \n",
       "\n",
       "   dead  injured  n_participants  ... Эксплуатация  \\\n",
       "0     0        1               2  ...            0   \n",
       "1     0        1               2  ...            0   \n",
       "2     0        1               2  ...            0   \n",
       "3     0        1               2  ...            0   \n",
       "4     0        1               2  ...            0   \n",
       "\n",
       "   Нарушение правил подачи/приема сигналов  Другое  Нарушения при движении  \\\n",
       "0                                        0       0                       0   \n",
       "1                                        0       0                       0   \n",
       "2                                        0       0                       0   \n",
       "3                                        0       0                       0   \n",
       "4                                        0       0                       0   \n",
       "\n",
       "   Пешеходы  Скончался до госпитализации  Не пострадал  Легкие травмы  \\\n",
       "0         0                            0             0              0   \n",
       "1         0                            0             0              0   \n",
       "2         0                            0             0              0   \n",
       "3         0                            0             0              0   \n",
       "4         0                            0             0              0   \n",
       "\n",
       "   Ранения  Скончался после госпитализации  \n",
       "0        1                               0  \n",
       "1        0                               0  \n",
       "2        1                               0  \n",
       "3        0                               0  \n",
       "4        1                               0  \n",
       "\n",
       "[5 rows x 99 columns]"
      ],
      "text/html": "<div>\n<style scoped>\n    .dataframe tbody tr th:only-of-type {\n        vertical-align: middle;\n    }\n\n    .dataframe tbody tr th {\n        vertical-align: top;\n    }\n\n    .dataframe thead th {\n        text-align: right;\n    }\n</style>\n<table border=\"1\" class=\"dataframe\">\n  <thead>\n    <tr style=\"text-align: right;\">\n      <th></th>\n      <th>lighting</th>\n      <th>long</th>\n      <th>lat</th>\n      <th>region</th>\n      <th>category</th>\n      <th>date</th>\n      <th>severity</th>\n      <th>dead</th>\n      <th>injured</th>\n      <th>n_participants</th>\n      <th>...</th>\n      <th>Эксплуатация</th>\n      <th>Нарушение правил подачи/приема сигналов</th>\n      <th>Другое</th>\n      <th>Нарушения при движении</th>\n      <th>Пешеходы</th>\n      <th>Скончался до госпитализации</th>\n      <th>Не пострадал</th>\n      <th>Легкие травмы</th>\n      <th>Ранения</th>\n      <th>Скончался после госпитализации</th>\n    </tr>\n  </thead>\n  <tbody>\n    <tr>\n      <th>0</th>\n      <td>Светлое время суток</td>\n      <td>55.616777</td>\n      <td>37.706516</td>\n      <td>Орехово-Борисово Северное</td>\n      <td>Наезд на пешехода</td>\n      <td>2020-03-24 13:06:00</td>\n      <td>Легкий</td>\n      <td>0</td>\n      <td>1</td>\n      <td>2</td>\n      <td>...</td>\n      <td>0</td>\n      <td>0</td>\n      <td>0</td>\n      <td>0</td>\n      <td>0</td>\n      <td>0</td>\n      <td>0</td>\n      <td>0</td>\n      <td>1</td>\n      <td>0</td>\n    </tr>\n    <tr>\n      <th>1</th>\n      <td>Светлое время суток</td>\n      <td>55.841157</td>\n      <td>37.489332</td>\n      <td>Головинский</td>\n      <td>Столкновение</td>\n      <td>2018-09-15 11:00:00</td>\n      <td>Легкий</td>\n      <td>0</td>\n      <td>1</td>\n      <td>2</td>\n      <td>...</td>\n      <td>0</td>\n      <td>0</td>\n      <td>0</td>\n      <td>0</td>\n      <td>0</td>\n      <td>0</td>\n      <td>0</td>\n      <td>0</td>\n      <td>0</td>\n      <td>0</td>\n    </tr>\n    <tr>\n      <th>2</th>\n      <td>В темное время суток, освещение включено</td>\n      <td>55.713332</td>\n      <td>37.658944</td>\n      <td>Даниловский</td>\n      <td>Наезд на пешехода</td>\n      <td>2016-04-14 21:25:00</td>\n      <td>Легкий</td>\n      <td>0</td>\n      <td>1</td>\n      <td>2</td>\n      <td>...</td>\n      <td>0</td>\n      <td>0</td>\n      <td>0</td>\n      <td>0</td>\n      <td>0</td>\n      <td>0</td>\n      <td>0</td>\n      <td>0</td>\n      <td>1</td>\n      <td>0</td>\n    </tr>\n    <tr>\n      <th>3</th>\n      <td>Светлое время суток</td>\n      <td>55.655243</td>\n      <td>37.414176</td>\n      <td>Солнцево</td>\n      <td>Столкновение</td>\n      <td>2019-06-20 18:15:00</td>\n      <td>Легкий</td>\n      <td>0</td>\n      <td>1</td>\n      <td>2</td>\n      <td>...</td>\n      <td>0</td>\n      <td>0</td>\n      <td>0</td>\n      <td>0</td>\n      <td>0</td>\n      <td>0</td>\n      <td>0</td>\n      <td>0</td>\n      <td>0</td>\n      <td>0</td>\n    </tr>\n    <tr>\n      <th>4</th>\n      <td>Светлое время суток</td>\n      <td>55.756493</td>\n      <td>37.789315</td>\n      <td>Перово</td>\n      <td>Наезд на пешехода</td>\n      <td>2016-04-04 11:50:00</td>\n      <td>Легкий</td>\n      <td>0</td>\n      <td>1</td>\n      <td>2</td>\n      <td>...</td>\n      <td>0</td>\n      <td>0</td>\n      <td>0</td>\n      <td>0</td>\n      <td>0</td>\n      <td>0</td>\n      <td>0</td>\n      <td>0</td>\n      <td>1</td>\n      <td>0</td>\n    </tr>\n  </tbody>\n</table>\n<p>5 rows × 99 columns</p>\n</div>"
     },
     "metadata": {},
     "execution_count": 16
    }
   ],
   "source": [
    "clean_data.head(5)"
   ]
  },
  {
   "cell_type": "code",
   "execution_count": 17,
   "metadata": {},
   "outputs": [],
   "source": [
    "clean_data.to_csv(\"clean_data_MSK.csv\", sep=':', index=False)"
   ]
  },
  {
   "cell_type": "code",
   "execution_count": 18,
   "metadata": {},
   "outputs": [],
   "source": [
    "test = pd.read_csv(\"clean_data_MSK.csv\", sep=':')"
   ]
  },
  {
   "cell_type": "code",
   "execution_count": 19,
   "metadata": {},
   "outputs": [
    {
     "output_type": "execute_result",
     "data": {
      "text/plain": [
       "                                   lighting       long        lat  \\\n",
       "0                       Светлое время суток  55.616777  37.706516   \n",
       "1                       Светлое время суток  55.841157  37.489332   \n",
       "2  В темное время суток, освещение включено  55.713332  37.658944   \n",
       "3                       Светлое время суток  55.655243  37.414176   \n",
       "4                       Светлое время суток  55.756493  37.789315   \n",
       "\n",
       "                      region           category                 date severity  \\\n",
       "0  Орехово-Борисово Северное  Наезд на пешехода  2020-03-24 13:06:00   Легкий   \n",
       "1                Головинский       Столкновение  2018-09-15 11:00:00   Легкий   \n",
       "2                Даниловский  Наезд на пешехода  2016-04-14 21:25:00   Легкий   \n",
       "3                   Солнцево       Столкновение  2019-06-20 18:15:00   Легкий   \n",
       "4                     Перово  Наезд на пешехода  2016-04-04 11:50:00   Легкий   \n",
       "\n",
       "   dead  injured  n_participants  ... Эксплуатация  \\\n",
       "0     0        1               2  ...            0   \n",
       "1     0        1               2  ...            0   \n",
       "2     0        1               2  ...            0   \n",
       "3     0        1               2  ...            0   \n",
       "4     0        1               2  ...            0   \n",
       "\n",
       "   Нарушение правил подачи/приема сигналов  Другое  Нарушения при движении  \\\n",
       "0                                        0       0                       0   \n",
       "1                                        0       0                       0   \n",
       "2                                        0       0                       0   \n",
       "3                                        0       0                       0   \n",
       "4                                        0       0                       0   \n",
       "\n",
       "   Пешеходы  Скончался до госпитализации  Не пострадал  Легкие травмы  \\\n",
       "0         0                            0             0              0   \n",
       "1         0                            0             0              0   \n",
       "2         0                            0             0              0   \n",
       "3         0                            0             0              0   \n",
       "4         0                            0             0              0   \n",
       "\n",
       "   Ранения  Скончался после госпитализации  \n",
       "0        1                               0  \n",
       "1        0                               0  \n",
       "2        1                               0  \n",
       "3        0                               0  \n",
       "4        1                               0  \n",
       "\n",
       "[5 rows x 99 columns]"
      ],
      "text/html": "<div>\n<style scoped>\n    .dataframe tbody tr th:only-of-type {\n        vertical-align: middle;\n    }\n\n    .dataframe tbody tr th {\n        vertical-align: top;\n    }\n\n    .dataframe thead th {\n        text-align: right;\n    }\n</style>\n<table border=\"1\" class=\"dataframe\">\n  <thead>\n    <tr style=\"text-align: right;\">\n      <th></th>\n      <th>lighting</th>\n      <th>long</th>\n      <th>lat</th>\n      <th>region</th>\n      <th>category</th>\n      <th>date</th>\n      <th>severity</th>\n      <th>dead</th>\n      <th>injured</th>\n      <th>n_participants</th>\n      <th>...</th>\n      <th>Эксплуатация</th>\n      <th>Нарушение правил подачи/приема сигналов</th>\n      <th>Другое</th>\n      <th>Нарушения при движении</th>\n      <th>Пешеходы</th>\n      <th>Скончался до госпитализации</th>\n      <th>Не пострадал</th>\n      <th>Легкие травмы</th>\n      <th>Ранения</th>\n      <th>Скончался после госпитализации</th>\n    </tr>\n  </thead>\n  <tbody>\n    <tr>\n      <th>0</th>\n      <td>Светлое время суток</td>\n      <td>55.616777</td>\n      <td>37.706516</td>\n      <td>Орехово-Борисово Северное</td>\n      <td>Наезд на пешехода</td>\n      <td>2020-03-24 13:06:00</td>\n      <td>Легкий</td>\n      <td>0</td>\n      <td>1</td>\n      <td>2</td>\n      <td>...</td>\n      <td>0</td>\n      <td>0</td>\n      <td>0</td>\n      <td>0</td>\n      <td>0</td>\n      <td>0</td>\n      <td>0</td>\n      <td>0</td>\n      <td>1</td>\n      <td>0</td>\n    </tr>\n    <tr>\n      <th>1</th>\n      <td>Светлое время суток</td>\n      <td>55.841157</td>\n      <td>37.489332</td>\n      <td>Головинский</td>\n      <td>Столкновение</td>\n      <td>2018-09-15 11:00:00</td>\n      <td>Легкий</td>\n      <td>0</td>\n      <td>1</td>\n      <td>2</td>\n      <td>...</td>\n      <td>0</td>\n      <td>0</td>\n      <td>0</td>\n      <td>0</td>\n      <td>0</td>\n      <td>0</td>\n      <td>0</td>\n      <td>0</td>\n      <td>0</td>\n      <td>0</td>\n    </tr>\n    <tr>\n      <th>2</th>\n      <td>В темное время суток, освещение включено</td>\n      <td>55.713332</td>\n      <td>37.658944</td>\n      <td>Даниловский</td>\n      <td>Наезд на пешехода</td>\n      <td>2016-04-14 21:25:00</td>\n      <td>Легкий</td>\n      <td>0</td>\n      <td>1</td>\n      <td>2</td>\n      <td>...</td>\n      <td>0</td>\n      <td>0</td>\n      <td>0</td>\n      <td>0</td>\n      <td>0</td>\n      <td>0</td>\n      <td>0</td>\n      <td>0</td>\n      <td>1</td>\n      <td>0</td>\n    </tr>\n    <tr>\n      <th>3</th>\n      <td>Светлое время суток</td>\n      <td>55.655243</td>\n      <td>37.414176</td>\n      <td>Солнцево</td>\n      <td>Столкновение</td>\n      <td>2019-06-20 18:15:00</td>\n      <td>Легкий</td>\n      <td>0</td>\n      <td>1</td>\n      <td>2</td>\n      <td>...</td>\n      <td>0</td>\n      <td>0</td>\n      <td>0</td>\n      <td>0</td>\n      <td>0</td>\n      <td>0</td>\n      <td>0</td>\n      <td>0</td>\n      <td>0</td>\n      <td>0</td>\n    </tr>\n    <tr>\n      <th>4</th>\n      <td>Светлое время суток</td>\n      <td>55.756493</td>\n      <td>37.789315</td>\n      <td>Перово</td>\n      <td>Наезд на пешехода</td>\n      <td>2016-04-04 11:50:00</td>\n      <td>Легкий</td>\n      <td>0</td>\n      <td>1</td>\n      <td>2</td>\n      <td>...</td>\n      <td>0</td>\n      <td>0</td>\n      <td>0</td>\n      <td>0</td>\n      <td>0</td>\n      <td>0</td>\n      <td>0</td>\n      <td>0</td>\n      <td>1</td>\n      <td>0</td>\n    </tr>\n  </tbody>\n</table>\n<p>5 rows × 99 columns</p>\n</div>"
     },
     "metadata": {},
     "execution_count": 19
    }
   ],
   "source": [
    "test.head()"
   ]
  }
 ]
}